{
 "cells": [
  {
   "cell_type": "markdown",
   "metadata": {},
   "source": [
    "## Python Blackjack\n",
    "For this project you will make a Blackjack game using Python. Click <a href=\"http://www.hitorstand.net/strategy.php\">here</a> to familiarize yourself with the the rules of the game. You won't be implementing every rule \"down to the letter\" with the game, but we will doing a simpler version of the game. This assignment will be given to further test your knowledge on object-oriented programming concepts.\n",
    "\n",
    "### Rules:\n",
    "\n",
    "`1. ` The game will have two players: the Dealer and the Player. The game will start off with a deck of 52 cards. The 52 cards will consist of 4 different suits: Clubs, Diamonds, Hearts and Spades. For each suit, there will be cards numbered 1 through 13. <br>\n",
    "**Note: No wildcards will be used in the program**\n",
    "\n",
    "`2. ` When the game begins, the dealer will shuffle the deck of cards, making them randomized. After the dealer shuffles, it will deal the player 2 cards and will deal itself 2 cards from. The Player should be able to see both of their own cards, but should only be able to see one of the Dealer's cards.\n",
    " \n",
    "`3. ` The objective of the game is for the Player to count their cards after they're dealt. If they're not satisfied with the number, they have the ability to 'Hit'. A hit allows the dealer to deal the Player one additional card. The Player can hit as many times as they'd like as long as they don't 'Bust'. A bust is when the Player is dealt cards that total more than 21.\n",
    "\n",
    "`4. ` If the dealer deals the Player cards equal to 21 on the **first** deal, the Player wins. This is referred to as Blackjack. Blackjack is **NOT** the same as getting cards that equal up to 21 after the first deal. Blackjack can only be attained on the first deal.\n",
    "\n",
    "`5. ` The Player will never see the Dealer's hand until the Player chooses to 'stand'. A Stand is when the player tells the dealer to not deal it anymore cards. Once the player chooses to Stand, the Player and the Dealer will compare their hands. Whoever has the higher number wins. Keep in mind that the Dealer can also bust. "
   ]
  },
  {
   "cell_type": "code",
   "execution_count": null,
   "metadata": {},
   "outputs": [],
   "source": [
    "import random\n",
    "from IPython.display import clear_output"
   ]
  },
  {
   "cell_type": "code",
   "execution_count": 25,
   "metadata": {},
   "outputs": [],
   "source": [
    "import random\n",
    "\n",
    "class Game:\n",
    "        # playerin = True\n",
    "        # dealerin = True\n",
    "    \\\n",
    "\n",
    "    def __init__(self, player, dealer):\n",
    "        self.playerhand = []\n",
    "        self.dealerhand = []\n",
    "        self.deck = self.set_deck\n",
    "        self.player = player\n",
    "        self.dealer = dealer\n",
    "            \n",
    "         \n",
    "            \n",
    "    def set_deck(self):\n",
    "        \n",
    "        names = [2, 3, 4, 5, 6, 7, 8, 9, 10,'J', 'Q', 'K', 'A']\n",
    "        suits = ['Spades', 'Heart', 'Club', 'Diamond']\n",
    "        self.deck = [(name, suit)for suit in suits for name in names]\n",
    "        random.shuffle(self.deck)\n",
    "        for i in range(2):\n",
    "            self.playerhand.append(self.deck.pop())\n",
    "            self.dealerhand.append(self.deck.pop())\n",
    "        print(f\"{self.player} these are your cards {self.playerhand}\")\n",
    "        print(f\"These are {self.dealer}'s {self.dealerhand[-1]}, X\")\n",
    "        \n",
    "        \n",
    "        \n",
    "    def deck_value(self):\n",
    "        \n",
    "        total = 0\n",
    "        face = ['J', 'Q', 'K']\n",
    "        for card in self.deck:\n",
    "            if card in range(1,11):\n",
    "                total += card[0]\n",
    "            elif card in face:\n",
    "                total += 10    \n",
    "        print(card)\n",
    "#         print(f\"{self.dealer}{self.dealerhand[-1]}\")\n",
    "         \n",
    "\n",
    "\n",
    "        \n",
    "  \n",
    "\n",
    "\n",
    "class Deck(Game):\n",
    "    \n",
    "    def __init__(self, suits, names):\n",
    "        self.suit = suits\n",
    "        self.name = names      \n",
    "        \n",
    "        \n",
    "\n",
    "\n",
    "# deck = Deck()\n",
    "\n",
    "       \n",
    "\n",
    "    \n",
    "            \n",
    "            \n",
    "\n",
    "\n"
   ]
  },
  {
   "cell_type": "code",
   "execution_count": 26,
   "metadata": {},
   "outputs": [
    {
     "name": "stdout",
     "output_type": "stream",
     "text": [
      "Sheldon these are your cards [(3, 'Diamond'), (9, 'Club')]\n",
      "These are Melo's (2, 'Spades'), X\n",
      "(7, 'Diamond')\n"
     ]
    }
   ],
   "source": [
    "game = Game(\"Sheldon\", \"Melo\")\n",
    "game.set_deck()\n",
    "game.deal_deck()"
   ]
  },
  {
   "cell_type": "code",
   "execution_count": null,
   "metadata": {
    "scrolled": true
   },
   "outputs": [],
   "source": []
  },
  {
   "cell_type": "code",
   "execution_count": null,
   "metadata": {},
   "outputs": [],
   "source": []
  },
  {
   "cell_type": "code",
   "execution_count": null,
   "metadata": {},
   "outputs": [],
   "source": []
  }
 ],
 "metadata": {
  "kernelspec": {
   "display_name": "Python 3 (ipykernel)",
   "language": "python",
   "name": "python3"
  },
  "language_info": {
   "codemirror_mode": {
    "name": "ipython",
    "version": 3
   },
   "file_extension": ".py",
   "mimetype": "text/x-python",
   "name": "python",
   "nbconvert_exporter": "python",
   "pygments_lexer": "ipython3",
   "version": "3.9.7"
  }
 },
 "nbformat": 4,
 "nbformat_minor": 2
}
